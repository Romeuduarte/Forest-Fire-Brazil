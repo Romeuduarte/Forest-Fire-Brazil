{
  "nbformat": 4,
  "nbformat_minor": 0,
  "metadata": {
    "colab": {
      "name": "Copy of Untitled0.ipynb",
      "provenance": [],
      "authorship_tag": "ABX9TyNU1hXQ4PtVv7sUJ2uozcno",
      "include_colab_link": true
    },
    "kernelspec": {
      "name": "python3",
      "display_name": "Python 3"
    },
    "language_info": {
      "name": "python"
    }
  },
  "cells": [
    {
      "cell_type": "markdown",
      "metadata": {
        "id": "view-in-github",
        "colab_type": "text"
      },
      "source": [
        "<a href=\"https://colab.research.google.com/github/Romeuduarte/Forest-Fire-Brazil/blob/main/Forest-Fire-Brazil.ipynb\" target=\"_parent\"><img src=\"https://colab.research.google.com/assets/colab-badge.svg\" alt=\"Open In Colab\"/></a>"
      ]
    },
    {
      "cell_type": "markdown",
      "metadata": {
        "id": "NB0MM5b3Pk6N"
      },
      "source": [
        "# **Final Capstone - Forest Fires in Brazil**"
      ]
    },
    {
      "cell_type": "markdown",
      "metadata": {
        "id": "4fVAvwI7Dkwn"
      },
      "source": [
        "\n",
        "\n",
        "Experts say that the blazes are almost exclusively due to human activity, and they attribute the uptick to the expansion of agriculture and a reduction of oversight and surveillance.\n",
        "The National Institute of Space Research (INPE) has detected 106,000 fires destroying natural vegetation in 2017 – the highest number in a single month since records began in 1998, said Alberto Setzer, coordinator of INPE’s fire monitoring satellite program.\n",
        "According to INPE, deforestation has risen continuously since 2012, when a new forest code that gave amnesty to deforesters was introduced\n",
        "\n",
        "I will be using various Python libraries to conduct statistical analysis on a dataset tha contais the number of forest fire incidents in Brazil.\n",
        "\n",
        "I am using a dataset found on Kaggle.com.\n",
        "https://www.kaggle.com/gustavomodelli/forest-fires-in-brazil\n",
        "\n",
        "The dataset is CSV file with 5 Columns and 6455 rows. The data types are 2 Strings column, 1 DateTime column and 2 Integer column and I also add 2 new column in the dataset called Area(string) and Decade(string) divinding Brazil in North and South and First decade and Second decade respectively.\n",
        "\n",
        "**I will be testing 2 hypothesis:**\n",
        "- Hypothesis One: the first decade of forest fire incidents equal to the second decade of forest fire incidents\n",
        "-  Hypothesis Two: forest fire incidents in North of Brazil  equal to forest fire incidents in South of Brazil"
      ]
    },
    {
      "cell_type": "markdown",
      "metadata": {
        "id": "fmWAy8rGoirh"
      },
      "source": [
        "To start, let's import libraries"
      ]
    },
    {
      "cell_type": "code",
      "metadata": {
        "id": "trNLZtRzIPer"
      },
      "source": [
        "import pandas as pd\n",
        "import numpy as np\n",
        "import seaborn as sns\n",
        "from scipy import stats\n",
        "import math\n",
        "import matplotlib.pyplot as plt"
      ],
      "execution_count": null,
      "outputs": []
    },
    {
      "cell_type": "code",
      "metadata": {
        "colab": {
          "base_uri": "https://localhost:8080/"
        },
        "id": "UnVSvBlOpLrY",
        "outputId": "5f40d782-ad89-4d47-ac73-d6d5ff089ad0"
      },
      "source": [
        "from google.colab import drive\n",
        "drive.mount('/content/gdrive')"
      ],
      "execution_count": null,
      "outputs": [
        {
          "output_type": "stream",
          "text": [
            "Drive already mounted at /content/gdrive; to attempt to forcibly remount, call drive.mount(\"/content/gdrive\", force_remount=True).\n"
          ],
          "name": "stdout"
        }
      ]
    },
    {
      "cell_type": "code",
      "metadata": {
        "id": "Wb4dwQtJIYcM"
      },
      "source": [
        "#loading the file\n",
        "df = pd.read_csv('/content/gdrive/My Drive/Final Project/amazon.csv', encoding='cp1252')"
      ],
      "execution_count": null,
      "outputs": []
    },
    {
      "cell_type": "markdown",
      "metadata": {
        "id": "fgwAR0L2rTcb"
      },
      "source": [
        "Now it's time to check it out the dataset:"
      ]
    },
    {
      "cell_type": "code",
      "metadata": {
        "colab": {
          "base_uri": "https://localhost:8080/"
        },
        "id": "NZtY1M6mIasj",
        "outputId": "e908e19c-183a-4e70-c259-d1624742b217"
      },
      "source": [
        "df.shape"
      ],
      "execution_count": null,
      "outputs": [
        {
          "output_type": "execute_result",
          "data": {
            "text/plain": [
              "(6454, 7)"
            ]
          },
          "metadata": {
            "tags": []
          },
          "execution_count": 4
        }
      ]
    },
    {
      "cell_type": "code",
      "metadata": {
        "colab": {
          "base_uri": "https://localhost:8080/",
          "height": 202
        },
        "id": "49BFzwysIfBg",
        "outputId": "295f2bff-cf54-45a5-e967-812ff165c078"
      },
      "source": [
        "#analysing the data\n",
        "df.head()"
      ],
      "execution_count": null,
      "outputs": [
        {
          "output_type": "execute_result",
          "data": {
            "text/html": [
              "<div>\n",
              "<style scoped>\n",
              "    .dataframe tbody tr th:only-of-type {\n",
              "        vertical-align: middle;\n",
              "    }\n",
              "\n",
              "    .dataframe tbody tr th {\n",
              "        vertical-align: top;\n",
              "    }\n",
              "\n",
              "    .dataframe thead th {\n",
              "        text-align: right;\n",
              "    }\n",
              "</style>\n",
              "<table border=\"1\" class=\"dataframe\">\n",
              "  <thead>\n",
              "    <tr style=\"text-align: right;\">\n",
              "      <th></th>\n",
              "      <th>year</th>\n",
              "      <th>state</th>\n",
              "      <th>month</th>\n",
              "      <th>number</th>\n",
              "      <th>date</th>\n",
              "      <th>Area</th>\n",
              "      <th>Decade</th>\n",
              "    </tr>\n",
              "  </thead>\n",
              "  <tbody>\n",
              "    <tr>\n",
              "      <th>0</th>\n",
              "      <td>1998</td>\n",
              "      <td>Acre</td>\n",
              "      <td>Janeiro</td>\n",
              "      <td>0.0</td>\n",
              "      <td>1/1/1998</td>\n",
              "      <td>North</td>\n",
              "      <td>First Decade</td>\n",
              "    </tr>\n",
              "    <tr>\n",
              "      <th>1</th>\n",
              "      <td>1999</td>\n",
              "      <td>Acre</td>\n",
              "      <td>Janeiro</td>\n",
              "      <td>0.0</td>\n",
              "      <td>1/1/1999</td>\n",
              "      <td>North</td>\n",
              "      <td>First Decade</td>\n",
              "    </tr>\n",
              "    <tr>\n",
              "      <th>2</th>\n",
              "      <td>2000</td>\n",
              "      <td>Acre</td>\n",
              "      <td>Janeiro</td>\n",
              "      <td>0.0</td>\n",
              "      <td>1/1/2000</td>\n",
              "      <td>North</td>\n",
              "      <td>First Decade</td>\n",
              "    </tr>\n",
              "    <tr>\n",
              "      <th>3</th>\n",
              "      <td>2001</td>\n",
              "      <td>Acre</td>\n",
              "      <td>Janeiro</td>\n",
              "      <td>0.0</td>\n",
              "      <td>1/1/2001</td>\n",
              "      <td>North</td>\n",
              "      <td>First Decade</td>\n",
              "    </tr>\n",
              "    <tr>\n",
              "      <th>4</th>\n",
              "      <td>2002</td>\n",
              "      <td>Acre</td>\n",
              "      <td>Janeiro</td>\n",
              "      <td>0.0</td>\n",
              "      <td>1/1/2002</td>\n",
              "      <td>North</td>\n",
              "      <td>First Decade</td>\n",
              "    </tr>\n",
              "  </tbody>\n",
              "</table>\n",
              "</div>"
            ],
            "text/plain": [
              "   year state    month  number      date   Area        Decade\n",
              "0  1998  Acre  Janeiro     0.0  1/1/1998  North  First Decade\n",
              "1  1999  Acre  Janeiro     0.0  1/1/1999  North  First Decade\n",
              "2  2000  Acre  Janeiro     0.0  1/1/2000  North  First Decade\n",
              "3  2001  Acre  Janeiro     0.0  1/1/2001  North  First Decade\n",
              "4  2002  Acre  Janeiro     0.0  1/1/2002  North  First Decade"
            ]
          },
          "metadata": {
            "tags": []
          },
          "execution_count": 5
        }
      ]
    },
    {
      "cell_type": "markdown",
      "metadata": {
        "id": "C0h-8-Azrs0i"
      },
      "source": [
        "Is the dataset has null values?"
      ]
    },
    {
      "cell_type": "code",
      "metadata": {
        "colab": {
          "base_uri": "https://localhost:8080/"
        },
        "id": "lfws3nPbIc81",
        "outputId": "7baaad34-5811-4e50-905d-c751512eadce"
      },
      "source": [
        "#No null values\n",
        "df.info()"
      ],
      "execution_count": null,
      "outputs": [
        {
          "output_type": "stream",
          "text": [
            "<class 'pandas.core.frame.DataFrame'>\n",
            "RangeIndex: 6454 entries, 0 to 6453\n",
            "Data columns (total 7 columns):\n",
            " #   Column  Non-Null Count  Dtype  \n",
            "---  ------  --------------  -----  \n",
            " 0   year    6454 non-null   int64  \n",
            " 1   state   6454 non-null   object \n",
            " 2   month   6454 non-null   object \n",
            " 3   number  6454 non-null   float64\n",
            " 4   date    6454 non-null   object \n",
            " 5   Area    6454 non-null   object \n",
            " 6   Decade  6454 non-null   object \n",
            "dtypes: float64(1), int64(1), object(5)\n",
            "memory usage: 353.1+ KB\n"
          ],
          "name": "stdout"
        }
      ]
    },
    {
      "cell_type": "code",
      "metadata": {
        "colab": {
          "base_uri": "https://localhost:8080/"
        },
        "id": "_v8RVnoMIhrb",
        "outputId": "f79aa496-73e7-48e6-fe95-733155279e6a"
      },
      "source": [
        "df['number'].describe()"
      ],
      "execution_count": null,
      "outputs": [
        {
          "output_type": "execute_result",
          "data": {
            "text/plain": [
              "count    6454.000000\n",
              "mean      108.293163\n",
              "std       190.812242\n",
              "min         0.000000\n",
              "25%         3.000000\n",
              "50%        24.000000\n",
              "75%       113.000000\n",
              "max       998.000000\n",
              "Name: number, dtype: float64"
            ]
          },
          "metadata": {
            "tags": []
          },
          "execution_count": 7
        }
      ]
    },
    {
      "cell_type": "markdown",
      "metadata": {
        "id": "JtJZhoVAsLvV"
      },
      "source": [
        "# **Hypothesis One:** "
      ]
    },
    {
      "cell_type": "markdown",
      "metadata": {
        "id": "tUCeorN6I87Q"
      },
      "source": [
        "Is the first decade of forest fire incidents equal to the second decade of forest fire incidents?\n",
        "\n",
        "\n",
        "- Mean of fire incidents reported in the first decade(1998 – 2008) = Mean of fire incidents reported in the second decade(2009-2018)\n"
      ]
    },
    {
      "cell_type": "markdown",
      "metadata": {
        "id": "d30MXac77vdj"
      },
      "source": [
        "Now let's divide the year column in two sections: \n",
        "First decade (1998-2007)"
      ]
    },
    {
      "cell_type": "code",
      "metadata": {
        "id": "sBB1LWFbIkXB"
      },
      "source": [
        "df_first_decade = df[df['year']<=2007] "
      ],
      "execution_count": null,
      "outputs": []
    },
    {
      "cell_type": "code",
      "metadata": {
        "colab": {
          "base_uri": "https://localhost:8080/"
        },
        "id": "rOgFoYk_5p4y",
        "outputId": "d0a5e195-2969-4acd-a85c-25d1aa213065"
      },
      "source": [
        "df_first_decade['number'].describe()"
      ],
      "execution_count": null,
      "outputs": [
        {
          "output_type": "execute_result",
          "data": {
            "text/plain": [
              "count    3240.000000\n",
              "mean       99.937849\n",
              "std       188.521942\n",
              "min         0.000000\n",
              "25%         2.000000\n",
              "50%        15.727000\n",
              "75%        94.000000\n",
              "max       995.000000\n",
              "Name: number, dtype: float64"
            ]
          },
          "metadata": {
            "tags": []
          },
          "execution_count": 9
        }
      ]
    },
    {
      "cell_type": "code",
      "metadata": {
        "colab": {
          "base_uri": "https://localhost:8080/",
          "height": 202
        },
        "id": "pF7q_feBDdGA",
        "outputId": "350cf461-d2e2-4082-b435-13612358b6a0"
      },
      "source": [
        "df_first_decade.head()"
      ],
      "execution_count": null,
      "outputs": [
        {
          "output_type": "execute_result",
          "data": {
            "text/html": [
              "<div>\n",
              "<style scoped>\n",
              "    .dataframe tbody tr th:only-of-type {\n",
              "        vertical-align: middle;\n",
              "    }\n",
              "\n",
              "    .dataframe tbody tr th {\n",
              "        vertical-align: top;\n",
              "    }\n",
              "\n",
              "    .dataframe thead th {\n",
              "        text-align: right;\n",
              "    }\n",
              "</style>\n",
              "<table border=\"1\" class=\"dataframe\">\n",
              "  <thead>\n",
              "    <tr style=\"text-align: right;\">\n",
              "      <th></th>\n",
              "      <th>year</th>\n",
              "      <th>state</th>\n",
              "      <th>month</th>\n",
              "      <th>number</th>\n",
              "      <th>date</th>\n",
              "      <th>Area</th>\n",
              "      <th>Decade</th>\n",
              "    </tr>\n",
              "  </thead>\n",
              "  <tbody>\n",
              "    <tr>\n",
              "      <th>0</th>\n",
              "      <td>1998</td>\n",
              "      <td>Acre</td>\n",
              "      <td>Janeiro</td>\n",
              "      <td>0.0</td>\n",
              "      <td>1/1/1998</td>\n",
              "      <td>North</td>\n",
              "      <td>First Decade</td>\n",
              "    </tr>\n",
              "    <tr>\n",
              "      <th>1</th>\n",
              "      <td>1999</td>\n",
              "      <td>Acre</td>\n",
              "      <td>Janeiro</td>\n",
              "      <td>0.0</td>\n",
              "      <td>1/1/1999</td>\n",
              "      <td>North</td>\n",
              "      <td>First Decade</td>\n",
              "    </tr>\n",
              "    <tr>\n",
              "      <th>2</th>\n",
              "      <td>2000</td>\n",
              "      <td>Acre</td>\n",
              "      <td>Janeiro</td>\n",
              "      <td>0.0</td>\n",
              "      <td>1/1/2000</td>\n",
              "      <td>North</td>\n",
              "      <td>First Decade</td>\n",
              "    </tr>\n",
              "    <tr>\n",
              "      <th>3</th>\n",
              "      <td>2001</td>\n",
              "      <td>Acre</td>\n",
              "      <td>Janeiro</td>\n",
              "      <td>0.0</td>\n",
              "      <td>1/1/2001</td>\n",
              "      <td>North</td>\n",
              "      <td>First Decade</td>\n",
              "    </tr>\n",
              "    <tr>\n",
              "      <th>4</th>\n",
              "      <td>2002</td>\n",
              "      <td>Acre</td>\n",
              "      <td>Janeiro</td>\n",
              "      <td>0.0</td>\n",
              "      <td>1/1/2002</td>\n",
              "      <td>North</td>\n",
              "      <td>First Decade</td>\n",
              "    </tr>\n",
              "  </tbody>\n",
              "</table>\n",
              "</div>"
            ],
            "text/plain": [
              "   year state    month  number      date   Area        Decade\n",
              "0  1998  Acre  Janeiro     0.0  1/1/1998  North  First Decade\n",
              "1  1999  Acre  Janeiro     0.0  1/1/1999  North  First Decade\n",
              "2  2000  Acre  Janeiro     0.0  1/1/2000  North  First Decade\n",
              "3  2001  Acre  Janeiro     0.0  1/1/2001  North  First Decade\n",
              "4  2002  Acre  Janeiro     0.0  1/1/2002  North  First Decade"
            ]
          },
          "metadata": {
            "tags": []
          },
          "execution_count": 10
        }
      ]
    },
    {
      "cell_type": "code",
      "metadata": {
        "id": "gxRG8Nlpss4Y"
      },
      "source": [
        ""
      ],
      "execution_count": null,
      "outputs": []
    },
    {
      "cell_type": "markdown",
      "metadata": {
        "id": "wP7MvMB8slGM"
      },
      "source": [
        "Let's plot the first decade with a bar chart to visualize"
      ]
    },
    {
      "cell_type": "code",
      "metadata": {
        "id": "QEHQlw4Q3uKa"
      },
      "source": [
        "visual_first_decade = df_first_decade.groupby(['year']).sum()"
      ],
      "execution_count": null,
      "outputs": []
    },
    {
      "cell_type": "code",
      "metadata": {
        "colab": {
          "base_uri": "https://localhost:8080/",
          "height": 313
        },
        "id": "YB6S9f4S4mFJ",
        "outputId": "b8b0b1ad-321f-49df-f870-161341932045"
      },
      "source": [
        "visual_first_decade['number'].plot.bar()"
      ],
      "execution_count": null,
      "outputs": [
        {
          "output_type": "execute_result",
          "data": {
            "text/plain": [
              "<matplotlib.axes._subplots.AxesSubplot at 0x7f0e34b38a90>"
            ]
          },
          "metadata": {
            "tags": []
          },
          "execution_count": 12
        },
        {
          "output_type": "display_data",
          "data": {
            "image/png": "[encoded data removed]",
            "text/plain": [
              "<Figure size 432x288 with 1 Axes>"
            ]
          },
          "metadata": {
            "tags": [],
            "needs_background": "light"
          }
        }
      ]
    },
    {
      "cell_type": "markdown",
      "metadata": {
        "id": "EVAOeG6R8Ioj"
      },
      "source": [
        "Second section: Second decade (2008-2017)\n"
      ]
    },
    {
      "cell_type": "code",
      "metadata": {
        "id": "1V2AlFN-Jwav"
      },
      "source": [
        "df_second_decade = df[df['year']>=2008]"
      ],
      "execution_count": null,
      "outputs": []
    },
    {
      "cell_type": "code",
      "metadata": {
        "colab": {
          "base_uri": "https://localhost:8080/"
        },
        "id": "kl8FgovX5goV",
        "outputId": "859385b4-a456-4ee0-9e3f-b28a45d9cf92"
      },
      "source": [
        "df_second_decade['number'].describe()"
      ],
      "execution_count": null,
      "outputs": [
        {
          "output_type": "execute_result",
          "data": {
            "text/plain": [
              "count    3214.000000\n",
              "mean      116.716068\n",
              "std       192.756576\n",
              "min         0.000000\n",
              "25%         4.355750\n",
              "50%        34.500000\n",
              "75%       128.750000\n",
              "max       998.000000\n",
              "Name: number, dtype: float64"
            ]
          },
          "metadata": {
            "tags": []
          },
          "execution_count": 14
        }
      ]
    },
    {
      "cell_type": "code",
      "metadata": {
        "id": "Gw3qu5FfJyzQ",
        "colab": {
          "base_uri": "https://localhost:8080/",
          "height": 202
        },
        "outputId": "9c165766-2105-4589-90ae-e7059a46ce42"
      },
      "source": [
        "df_second_decade.head()"
      ],
      "execution_count": null,
      "outputs": [
        {
          "output_type": "execute_result",
          "data": {
            "text/html": [
              "<div>\n",
              "<style scoped>\n",
              "    .dataframe tbody tr th:only-of-type {\n",
              "        vertical-align: middle;\n",
              "    }\n",
              "\n",
              "    .dataframe tbody tr th {\n",
              "        vertical-align: top;\n",
              "    }\n",
              "\n",
              "    .dataframe thead th {\n",
              "        text-align: right;\n",
              "    }\n",
              "</style>\n",
              "<table border=\"1\" class=\"dataframe\">\n",
              "  <thead>\n",
              "    <tr style=\"text-align: right;\">\n",
              "      <th></th>\n",
              "      <th>year</th>\n",
              "      <th>state</th>\n",
              "      <th>month</th>\n",
              "      <th>number</th>\n",
              "      <th>date</th>\n",
              "      <th>Area</th>\n",
              "      <th>Decade</th>\n",
              "    </tr>\n",
              "  </thead>\n",
              "  <tbody>\n",
              "    <tr>\n",
              "      <th>10</th>\n",
              "      <td>2008</td>\n",
              "      <td>Acre</td>\n",
              "      <td>Janeiro</td>\n",
              "      <td>0.0</td>\n",
              "      <td>1/1/2008</td>\n",
              "      <td>North</td>\n",
              "      <td>Second Decade</td>\n",
              "    </tr>\n",
              "    <tr>\n",
              "      <th>11</th>\n",
              "      <td>2009</td>\n",
              "      <td>Acre</td>\n",
              "      <td>Janeiro</td>\n",
              "      <td>0.0</td>\n",
              "      <td>1/1/2009</td>\n",
              "      <td>North</td>\n",
              "      <td>Second Decade</td>\n",
              "    </tr>\n",
              "    <tr>\n",
              "      <th>12</th>\n",
              "      <td>2010</td>\n",
              "      <td>Acre</td>\n",
              "      <td>Janeiro</td>\n",
              "      <td>1.0</td>\n",
              "      <td>1/1/2010</td>\n",
              "      <td>North</td>\n",
              "      <td>Second Decade</td>\n",
              "    </tr>\n",
              "    <tr>\n",
              "      <th>13</th>\n",
              "      <td>2011</td>\n",
              "      <td>Acre</td>\n",
              "      <td>Janeiro</td>\n",
              "      <td>0.0</td>\n",
              "      <td>1/1/2011</td>\n",
              "      <td>North</td>\n",
              "      <td>Second Decade</td>\n",
              "    </tr>\n",
              "    <tr>\n",
              "      <th>14</th>\n",
              "      <td>2012</td>\n",
              "      <td>Acre</td>\n",
              "      <td>Janeiro</td>\n",
              "      <td>0.0</td>\n",
              "      <td>1/1/2012</td>\n",
              "      <td>North</td>\n",
              "      <td>Second Decade</td>\n",
              "    </tr>\n",
              "  </tbody>\n",
              "</table>\n",
              "</div>"
            ],
            "text/plain": [
              "    year state    month  number      date   Area         Decade\n",
              "10  2008  Acre  Janeiro     0.0  1/1/2008  North  Second Decade\n",
              "11  2009  Acre  Janeiro     0.0  1/1/2009  North  Second Decade\n",
              "12  2010  Acre  Janeiro     1.0  1/1/2010  North  Second Decade\n",
              "13  2011  Acre  Janeiro     0.0  1/1/2011  North  Second Decade\n",
              "14  2012  Acre  Janeiro     0.0  1/1/2012  North  Second Decade"
            ]
          },
          "metadata": {
            "tags": []
          },
          "execution_count": 15
        }
      ]
    },
    {
      "cell_type": "markdown",
      "metadata": {
        "id": "2PQEmi4g48KF"
      },
      "source": [
        "Let's plot the second decade with a bar chart to visualize"
      ]
    },
    {
      "cell_type": "code",
      "metadata": {
        "id": "mpw_7dlF5Ad9"
      },
      "source": [
        "visual_second_decade = df_second_decade.groupby(['year']).sum()"
      ],
      "execution_count": null,
      "outputs": []
    },
    {
      "cell_type": "code",
      "metadata": {
        "colab": {
          "base_uri": "https://localhost:8080/",
          "height": 313
        },
        "id": "aVUDvqyT5Hgb",
        "outputId": "91d87d68-61ed-499b-bdbd-d9246c2b603c"
      },
      "source": [
        "visual_second_decade['number'].plot.bar()"
      ],
      "execution_count": null,
      "outputs": [
        {
          "output_type": "execute_result",
          "data": {
            "text/plain": [
              "<matplotlib.axes._subplots.AxesSubplot at 0x7f0e33f49090>"
            ]
          },
          "metadata": {
            "tags": []
          },
          "execution_count": 17
        },
        {
          "output_type": "display_data",
          "data": {
            "image/png": "[encoded data removed]",
            "text/plain": [
              "<Figure size 432x288 with 1 Axes>"
            ]
          },
          "metadata": {
            "tags": [],
            "needs_background": "light"
          }
        }
      ]
    },
    {
      "cell_type": "markdown",
      "metadata": {
        "id": "X3ECYHuKJtJi"
      },
      "source": [
        "Now comparing between both decades"
      ]
    },
    {
      "cell_type": "markdown",
      "metadata": {
        "id": "ioAAxH0WtBK-"
      },
      "source": [
        "Here I add the column \"Decade\"(string) to my dataset comparing first and second decade. "
      ]
    },
    {
      "cell_type": "code",
      "metadata": {
        "colab": {
          "base_uri": "https://localhost:8080/",
          "height": 311
        },
        "id": "pw0kBYOEG2zk",
        "outputId": "c6714580-1d86-48f7-effc-d8dfc879bbc2"
      },
      "source": [
        "df.groupby(['year','Decade']).sum().unstack().plot.bar()\n",
        "plt.title('Number of Forest Fire incidents from North and South over the years ')\n",
        "plt.xlabel('Year')\n",
        "plt.ylabel('Number of Fire Incidents')\n",
        "plt.legend().remove()"
      ],
      "execution_count": null,
      "outputs": [
        {
          "output_type": "display_data",
          "data": {
            "image/png": "[encoded data removed]",
            "text/plain": [
              "<Figure size 432x288 with 1 Axes>"
            ]
          },
          "metadata": {
            "tags": [],
            "needs_background": "light"
          }
        }
      ]
    },
    {
      "cell_type": "markdown",
      "metadata": {
        "id": "eLFOklg3tWwR"
      },
      "source": [
        "Some years from the first decade is high as the second decade. I wonder if they're statistically different. \n",
        "\n",
        "Let's check:"
      ]
    },
    {
      "cell_type": "markdown",
      "metadata": {
        "id": "RKGDH2dE0B8u"
      },
      "source": [
        "##Hyphotesis Testing:"
      ]
    },
    {
      "cell_type": "markdown",
      "metadata": {
        "id": "FRw9L1UF0Mwf"
      },
      "source": [
        "Perform t-test \n",
        "\n",
        "I want to examine whether there is a significant difference in the forest fire in Brazil from 1998-2007 and 2008-2017. So, my hypotheses are thus:\n",
        "\n",
        "H₀: μ₁ - μ₂ = 0  \n",
        "Hₐ: μ₁ - μ₂ ≠ 0"
      ]
    },
    {
      "cell_type": "code",
      "metadata": {
        "id": "8PlMjRavJ0RR",
        "colab": {
          "base_uri": "https://localhost:8080/"
        },
        "outputId": "a818dbb6-7205-428f-e357-95345113c299"
      },
      "source": [
        "#T-test to evaluate the statistical difference \n",
        "stats.ttest_ind(df_first_decade['number'] , df_second_decade['number']) "
      ],
      "execution_count": null,
      "outputs": [
        {
          "output_type": "execute_result",
          "data": {
            "text/plain": [
              "Ttest_indResult(statistic=-3.5351441171165483, pvalue=0.0004104108746177664)"
            ]
          },
          "metadata": {
            "tags": []
          },
          "execution_count": 19
        }
      ]
    },
    {
      "cell_type": "markdown",
      "metadata": {
        "id": "wAcrn83T4Y15"
      },
      "source": [
        "With the P-value at 0.0004 , I will reject the null hypothesis that there's no difference between the means and conclude that a significant difference does exist."
      ]
    },
    {
      "cell_type": "code",
      "metadata": {
        "id": "brsMD2jnJ5PP",
        "colab": {
          "base_uri": "https://localhost:8080/",
          "height": 35
        },
        "outputId": "965b4036-940a-4e9a-eff3-6c25e126496f"
      },
      "source": [
        "#Confidence level\n",
        "def get_95_ci(array_1, array_2):\n",
        "    sample_1_n = array_1.shape[0]\n",
        "    sample_2_n = array_2.shape[0]\n",
        "    sample_1_mean = array_1.mean()\n",
        "    sample_2_mean = array_2.mean()\n",
        "    sample_1_var = array_1.var()\n",
        "    sample_2_var = array_2.var()\n",
        "    mean_difference = sample_2_mean - sample_1_mean\n",
        "    std_err_difference = math.sqrt((sample_1_var/sample_1_n)+(sample_2_var/sample_2_n))\n",
        "    margin_of_error = 1.96 * std_err_difference\n",
        "    ci_lower = mean_difference - margin_of_error\n",
        "    ci_upper = mean_difference + margin_of_error\n",
        "    return(\"The difference in means at the 95% confidence interval (two-tail) is between \"+str(ci_lower)+\" and \"+str(ci_upper)+\".\")\n",
        "\n",
        "get_95_ci(df_first_decade['number'],df_second_decade['number'])"
      ],
      "execution_count": null,
      "outputs": [
        {
          "output_type": "execute_result",
          "data": {
            "application/vnd.google.colaboratory.intrinsic+json": {
              "type": "string"
            },
            "text/plain": [
              "'The difference in means at the 95% confidence interval (two-tail) is between 7.474990761312911 and 26.081446747041724.'"
            ]
          },
          "metadata": {
            "tags": []
          },
          "execution_count": 20
        }
      ]
    },
    {
      "cell_type": "markdown",
      "metadata": {
        "id": "zfKHSF4p3Uaw"
      },
      "source": [
        "Based on these results I would reject my null hypothesis and accept that the forest fire in Brazil between 1998-2007 and 2008-2017 is statistically significant."
      ]
    },
    {
      "cell_type": "code",
      "metadata": {
        "colab": {
          "base_uri": "https://localhost:8080/",
          "height": 350
        },
        "id": "DRXw5c-Fzeut",
        "outputId": "64393139-bc5b-4444-8332-5c71868c0bed"
      },
      "source": [
        "decade_test= pd.concat([df_first_decade, df_second_decade])\n",
        "\n",
        "plt.figure(figsize = (11,5))\n",
        "sns.barplot(x=\"Decade\", y=\"number\", data=decade_test)\n",
        "plt.xlabel('Year')\n",
        "plt.ylabel('Number of Fire Incidents')\n",
        "plt.title('Sum of Number of Fire Incidents 1998-2007 vs. 2008-2017');"
      ],
      "execution_count": null,
      "outputs": [
        {
          "output_type": "display_data",
          "data": {
            "image/png": "[encoded data removed]",
            "text/plain": [
              "<Figure size 792x360 with 1 Axes>"
            ]
          },
          "metadata": {
            "tags": [],
            "needs_background": "light"
          }
        }
      ]
    },
    {
      "cell_type": "markdown",
      "metadata": {
        "id": "Zm-uM9lA6a79"
      },
      "source": [
        "# **Hypothesis Two:**"
      ]
    },
    {
      "cell_type": "markdown",
      "metadata": {
        "id": "BBTqC3U26lUo"
      },
      "source": [
        "Are forest fire incidents in North of Brazil equal to forest fire incidents in South of Brazil?\n",
        "\n",
        "\n",
        "- Mean of fire incidents reported in the  North of Brazil = Mean of fire incidents reported in the South of Brazil."
      ]
    },
    {
      "cell_type": "markdown",
      "metadata": {
        "id": "2Dy_WCH-8hU1"
      },
      "source": [
        "Now I created on the original dataset a new column called \"Area\" diving the country in two parts(\"North\" and \"South\"). Based on states from the North and South of Brazil."
      ]
    },
    {
      "cell_type": "markdown",
      "metadata": {
        "id": "xGRG5RYU9E0a"
      },
      "source": [
        "After that  let's divide the Area column in two sections "
      ]
    },
    {
      "cell_type": "markdown",
      "metadata": {
        "id": "wF20m2PG9-oF"
      },
      "source": [
        "###First section: North (all north states of Brazil)"
      ]
    },
    {
      "cell_type": "code",
      "metadata": {
        "id": "5klmVdm43Lk0"
      },
      "source": [
        "#Which area has the most forest fire incidentes? \n",
        "North_of_Brazil = df[df['Area'] == 'North'] "
      ],
      "execution_count": null,
      "outputs": []
    },
    {
      "cell_type": "code",
      "metadata": {
        "colab": {
          "base_uri": "https://localhost:8080/"
        },
        "id": "RKspfLVW6uk9",
        "outputId": "8cadd200-f587-4054-876b-55fa2feb4d79"
      },
      "source": [
        "North_of_Brazil['number'].describe()"
      ],
      "execution_count": null,
      "outputs": [
        {
          "output_type": "execute_result",
          "data": {
            "text/plain": [
              "count    3586.000000\n",
              "mean       98.162891\n",
              "std       187.705622\n",
              "min         0.000000\n",
              "25%         2.188250\n",
              "50%        15.000000\n",
              "75%        90.000000\n",
              "max       998.000000\n",
              "Name: number, dtype: float64"
            ]
          },
          "metadata": {
            "tags": []
          },
          "execution_count": 23
        }
      ]
    },
    {
      "cell_type": "code",
      "metadata": {
        "colab": {
          "base_uri": "https://localhost:8080/"
        },
        "id": "1PXtpbre3OuG",
        "outputId": "def00b7b-0a83-4e73-e540-c790afd23480"
      },
      "source": [
        "North_of_Brazil.head"
      ],
      "execution_count": null,
      "outputs": [
        {
          "output_type": "execute_result",
          "data": {
            "text/plain": [
              "<bound method NDFrame.head of       year      state     month  number      date   Area         Decade\n",
              "0     1998       Acre   Janeiro     0.0  1/1/1998  North   First Decade\n",
              "1     1999       Acre   Janeiro     0.0  1/1/1999  North   First Decade\n",
              "2     2000       Acre   Janeiro     0.0  1/1/2000  North   First Decade\n",
              "3     2001       Acre   Janeiro     0.0  1/1/2001  North   First Decade\n",
              "4     2002       Acre   Janeiro     0.0  1/1/2002  North   First Decade\n",
              "...    ...        ...       ...     ...       ...    ...            ...\n",
              "6449  2012  Tocantins  Dezembro   128.0  1/1/2012  North  Second Decade\n",
              "6450  2013  Tocantins  Dezembro    85.0  1/1/2013  North  Second Decade\n",
              "6451  2014  Tocantins  Dezembro   223.0  1/1/2014  North  Second Decade\n",
              "6452  2015  Tocantins  Dezembro   373.0  1/1/2015  North  Second Decade\n",
              "6453  2016  Tocantins  Dezembro   119.0  1/1/2016  North  Second Decade\n",
              "\n",
              "[3586 rows x 7 columns]>"
            ]
          },
          "metadata": {
            "tags": []
          },
          "execution_count": 24
        }
      ]
    },
    {
      "cell_type": "markdown",
      "metadata": {
        "id": "_GioIyyFvivK"
      },
      "source": [
        "Now let's see the graph from the North:"
      ]
    },
    {
      "cell_type": "code",
      "metadata": {
        "colab": {
          "base_uri": "https://localhost:8080/",
          "height": 313
        },
        "id": "AQPgE-tYvBw6",
        "outputId": "6131a06f-7351-4b0a-e03d-a838d761a474"
      },
      "source": [
        "North_of_Brazil.groupby(['year','Area']).sum().unstack().plot(kind='line',y='number')\n",
        "plt.title('Number of Forest Fire incidents from North over the years ')\n",
        "plt.xlabel('Year')\n",
        "plt.ylabel('Number of Fire Incidents')"
      ],
      "execution_count": null,
      "outputs": [
        {
          "output_type": "execute_result",
          "data": {
            "text/plain": [
              "Text(0, 0.5, 'Number of Fire Incidents')"
            ]
          },
          "metadata": {
            "tags": []
          },
          "execution_count": 25
        },
        {
          "output_type": "display_data",
          "data": {
            "image/png": "[encoded data removed]",
            "text/plain": [
              "<Figure size 432x288 with 1 Axes>"
            ]
          },
          "metadata": {
            "tags": [],
            "needs_background": "light"
          }
        }
      ]
    },
    {
      "cell_type": "markdown",
      "metadata": {
        "id": "BMAotOC_9em1"
      },
      "source": [
        "###Second section : South(all south states from Brazil)"
      ]
    },
    {
      "cell_type": "code",
      "metadata": {
        "id": "_2vLsir73QW7"
      },
      "source": [
        "South_of_Brazil = df[df['Area'] == 'South'] "
      ],
      "execution_count": null,
      "outputs": []
    },
    {
      "cell_type": "code",
      "metadata": {
        "colab": {
          "base_uri": "https://localhost:8080/"
        },
        "id": "hHTYyN3G6cUL",
        "outputId": "2f8fc94d-0ed8-4383-b0cb-8c5696d3ee59"
      },
      "source": [
        "South_of_Brazil['number'].describe()"
      ],
      "execution_count": null,
      "outputs": [
        {
          "output_type": "execute_result",
          "data": {
            "text/plain": [
              "count    2868.000000\n",
              "mean      120.959535\n",
              "std       193.916378\n",
              "min         0.000000\n",
              "25%         5.408250\n",
              "50%        39.000000\n",
              "75%       137.000000\n",
              "max       995.000000\n",
              "Name: number, dtype: float64"
            ]
          },
          "metadata": {
            "tags": []
          },
          "execution_count": 27
        }
      ]
    },
    {
      "cell_type": "code",
      "metadata": {
        "colab": {
          "base_uri": "https://localhost:8080/"
        },
        "id": "vnfWoN9w3Q1M",
        "outputId": "b81df155-f6e8-47a5-f6a1-48b9dbeb133c"
      },
      "source": [
        "South_of_Brazil.head"
      ],
      "execution_count": null,
      "outputs": [
        {
          "output_type": "execute_result",
          "data": {
            "text/plain": [
              "<bound method NDFrame.head of       year      state     month  number      date   Area         Decade\n",
              "957   1998      Bahia   Janeiro     0.0  1/1/1998  South   First Decade\n",
              "958   1999      Bahia   Janeiro   114.0  1/1/1999  South   First Decade\n",
              "959   2000      Bahia   Janeiro    31.0  1/1/2000  South   First Decade\n",
              "960   2001      Bahia   Janeiro    24.0  1/1/2001  South   First Decade\n",
              "961   2002      Bahia   Janeiro   125.0  1/1/2002  South   First Decade\n",
              "...    ...        ...       ...     ...       ...    ...            ...\n",
              "5971  2012  Sao Paulo  Dezembro    64.0  1/1/2012  South  Second Decade\n",
              "5972  2013  Sao Paulo  Dezembro   109.0  1/1/2013  South  Second Decade\n",
              "5973  2014  Sao Paulo  Dezembro    57.0  1/1/2014  South  Second Decade\n",
              "5974  2015  Sao Paulo  Dezembro    45.0  1/1/2015  South  Second Decade\n",
              "5975  2016  Sao Paulo  Dezembro    47.0  1/1/2016  South  Second Decade\n",
              "\n",
              "[2868 rows x 7 columns]>"
            ]
          },
          "metadata": {
            "tags": []
          },
          "execution_count": 28
        }
      ]
    },
    {
      "cell_type": "markdown",
      "metadata": {
        "id": "eLDWagIzv6rq"
      },
      "source": [
        "And now the graph from the South:"
      ]
    },
    {
      "cell_type": "code",
      "metadata": {
        "colab": {
          "base_uri": "https://localhost:8080/",
          "height": 313
        },
        "id": "mnG3IAzGvMEc",
        "outputId": "0dc6d84b-3f78-4448-e64f-9b668e2522e5"
      },
      "source": [
        "South_of_Brazil.groupby(['year','Area']).sum().unstack().plot(kind='line',y='number')\n",
        "plt.title('Number of Forest Fire incidents from South over the years ')\n",
        "plt.xlabel('Year')\n",
        "plt.ylabel('Number of Fire Incidents')"
      ],
      "execution_count": null,
      "outputs": [
        {
          "output_type": "execute_result",
          "data": {
            "text/plain": [
              "Text(0, 0.5, 'Number of Fire Incidents')"
            ]
          },
          "metadata": {
            "tags": []
          },
          "execution_count": 29
        },
        {
          "output_type": "display_data",
          "data": {
            "image/png": "[encoded data removed]",
            "text/plain": [
              "<Figure size 432x288 with 1 Axes>"
            ]
          },
          "metadata": {
            "tags": [],
            "needs_background": "light"
          }
        }
      ]
    },
    {
      "cell_type": "markdown",
      "metadata": {
        "id": "j-tnYmvd1ude"
      },
      "source": [
        "Let's plot a line chart over the years comparing the North and South of Brazil"
      ]
    },
    {
      "cell_type": "code",
      "metadata": {
        "id": "XOQAsCCQ85MC"
      },
      "source": [
        "df['year'] = df['year'].astype(str)"
      ],
      "execution_count": null,
      "outputs": []
    },
    {
      "cell_type": "code",
      "metadata": {
        "colab": {
          "base_uri": "https://localhost:8080/",
          "height": 313
        },
        "id": "Z2QVbviHyO2w",
        "outputId": "89d8960f-c596-4f37-da18-cddedd89e46f"
      },
      "source": [
        "df.groupby(['year','Area']).sum().unstack().plot(kind='line',y='number')\n",
        "plt.title('Number of Forest Fire incidents from North and South over the years ')\n",
        "plt.xlabel('Year')\n",
        "plt.ylabel('Number of Fire Incidents')"
      ],
      "execution_count": null,
      "outputs": [
        {
          "output_type": "execute_result",
          "data": {
            "text/plain": [
              "Text(0, 0.5, 'Number of Fire Incidents')"
            ]
          },
          "metadata": {
            "tags": []
          },
          "execution_count": 31
        },
        {
          "output_type": "display_data",
          "data": {
            "image/png": "[encoded data removed]",
            "text/plain": [
              "<Figure size 432x288 with 1 Axes>"
            ]
          },
          "metadata": {
            "tags": [],
            "needs_background": "light"
          }
        }
      ]
    },
    {
      "cell_type": "markdown",
      "metadata": {
        "id": "3eR34sQU6-K7"
      },
      "source": [
        "##Hyphotesis Testing:"
      ]
    },
    {
      "cell_type": "markdown",
      "metadata": {
        "id": "1xyjQdN27BO2"
      },
      "source": [
        "Perform t-test\n",
        "\n",
        "I want to examine whether there is a significant difference in the forest fire in Brazil between North and South of the country. So, my hypotheses are thus:\n",
        "\n",
        "H₀: μ₁ - μ₂ = 0\n",
        "\n",
        "Hₐ: μ₁ - μ₂ ≠ 0"
      ]
    },
    {
      "cell_type": "code",
      "metadata": {
        "colab": {
          "base_uri": "https://localhost:8080/"
        },
        "id": "OWqpmfCq3SOA",
        "outputId": "755e7639-5b83-4b2a-ba07-58946f38d246"
      },
      "source": [
        "stats.ttest_ind(North_of_Brazil['number'] , South_of_Brazil['number']) "
      ],
      "execution_count": null,
      "outputs": [
        {
          "output_type": "execute_result",
          "data": {
            "text/plain": [
              "Ttest_indResult(statistic=-4.777250523229817, pvalue=1.8163782247079013e-06)"
            ]
          },
          "metadata": {
            "tags": []
          },
          "execution_count": 32
        }
      ]
    },
    {
      "cell_type": "markdown",
      "metadata": {
        "id": "wcxmkOcN-Qs8"
      },
      "source": [
        "With the P-value at 1.81e-06 , I will reject the null hypothesis that theres no difference between the means and concluede that a significant difference does exist."
      ]
    },
    {
      "cell_type": "code",
      "metadata": {
        "colab": {
          "base_uri": "https://localhost:8080/",
          "height": 35
        },
        "id": "DUxvYs_73VMD",
        "outputId": "af4ffc8b-da16-4c24-c151-265dec8e860c"
      },
      "source": [
        "#Confidence level\n",
        "def get_95_ci(array_1, array_2):\n",
        "    sample_1_n = array_1.shape[0]\n",
        "    sample_2_n = array_2.shape[0]\n",
        "    sample_1_mean = array_1.mean()\n",
        "    sample_2_mean = array_2.mean()\n",
        "    sample_1_var = array_1.var()\n",
        "    sample_2_var = array_2.var()\n",
        "    mean_difference = sample_2_mean - sample_1_mean\n",
        "    std_err_difference = math.sqrt((sample_1_var/sample_1_n)+(sample_2_var/sample_2_n))\n",
        "    margin_of_error = 1.96 * std_err_difference\n",
        "    ci_lower = mean_difference - margin_of_error\n",
        "    ci_upper = mean_difference + margin_of_error\n",
        "    return(\"The difference in means at the 95% confidence interval (two-tail) is between \"+str(ci_lower)+\" and \"+str(ci_upper)+\".\")\n",
        "\n",
        "get_95_ci(North_of_Brazil['number'],South_of_Brazil['number'])"
      ],
      "execution_count": null,
      "outputs": [
        {
          "output_type": "execute_result",
          "data": {
            "application/vnd.google.colaboratory.intrinsic+json": {
              "type": "string"
            },
            "text/plain": [
              "'The difference in means at the 95% confidence interval (two-tail) is between 13.409761064273813 and 32.18352799608088.'"
            ]
          },
          "metadata": {
            "tags": []
          },
          "execution_count": 33
        }
      ]
    },
    {
      "cell_type": "markdown",
      "metadata": {
        "id": "ja7yNgeuq5S0"
      },
      "source": [
        "Let's sort the number of forest fire incidents by the state:"
      ]
    },
    {
      "cell_type": "code",
      "metadata": {
        "id": "0SJe-JxuLTbV"
      },
      "source": [
        "df_by_state = df.groupby(['state']).sum()"
      ],
      "execution_count": null,
      "outputs": []
    },
    {
      "cell_type": "code",
      "metadata": {
        "colab": {
          "base_uri": "https://localhost:8080/",
          "height": 379
        },
        "id": "yKoXBWOeL4Oc",
        "outputId": "81496097-32fb-45b6-929b-25b4274d24d6"
      },
      "source": [
        "df_by_state['number'].sort_values().plot.bar()\n",
        "plt.title('Forest Fire incidents by States ')\n",
        "plt.xlabel('State')\n",
        "plt.ylabel('Number of Fire Incidents')"
      ],
      "execution_count": null,
      "outputs": [
        {
          "output_type": "execute_result",
          "data": {
            "text/plain": [
              "Text(0, 0.5, 'Number of Fire Incidents')"
            ]
          },
          "metadata": {
            "tags": []
          },
          "execution_count": 35
        },
        {
          "output_type": "display_data",
          "data": {
            "image/png": "[encoded data removed]",
            "text/plain": [
              "<Figure size 432x288 with 1 Axes>"
            ]
          },
          "metadata": {
            "tags": [],
            "needs_background": "light"
          }
        }
      ]
    },
    {
      "cell_type": "code",
      "metadata": {
        "id": "UZVALKZn3V0S"
      },
      "source": [
        "Both_areas = df.groupby(['Area']).sum()"
      ],
      "execution_count": null,
      "outputs": []
    },
    {
      "cell_type": "code",
      "metadata": {
        "colab": {
          "base_uri": "https://localhost:8080/",
          "height": 315
        },
        "id": "_6jnJMIl3Xk0",
        "outputId": "a5c497b6-336b-41e0-826d-69a5559e08ed"
      },
      "source": [
        "Both_areas['number'].sort_values().plot.bar()"
      ],
      "execution_count": null,
      "outputs": [
        {
          "output_type": "execute_result",
          "data": {
            "text/plain": [
              "<matplotlib.axes._subplots.AxesSubplot at 0x7f0e33697810>"
            ]
          },
          "metadata": {
            "tags": []
          },
          "execution_count": 37
        },
        {
          "output_type": "display_data",
          "data": {
            "image/png": "[encoded data removed]",
            "text/plain": [
              "<Figure size 432x288 with 1 Axes>"
            ]
          },
          "metadata": {
            "tags": [],
            "needs_background": "light"
          }
        }
      ]
    },
    {
      "cell_type": "code",
      "metadata": {
        "colab": {
          "base_uri": "https://localhost:8080/",
          "height": 350
        },
        "id": "enXghpkT1bYU",
        "outputId": "9b7e147b-3242-4e5c-947d-03737d960c22"
      },
      "source": [
        "Area_test= pd.concat([North_of_Brazil, South_of_Brazil])\n",
        "\n",
        "plt.figure(figsize = (11,5))\n",
        "sns.barplot(x=\"Area\", y=\"number\", data=Area_test)\n",
        "plt.xlabel('Area')\n",
        "plt.ylabel('Number of Fire Incidents')\n",
        "plt.title('Sum of the Number of Fire Incidents North vs. South');decade_test= pd.concat([df_first_decade, df_second_decade])\n"
      ],
      "execution_count": null,
      "outputs": [
        {
          "output_type": "display_data",
          "data": {
            "image/png": "[encoded data removed]",
            "text/plain": [
              "<Figure size 792x360 with 1 Axes>"
            ]
          },
          "metadata": {
            "tags": [],
            "needs_background": "light"
          }
        }
      ]
    },
    {
      "cell_type": "markdown",
      "metadata": {
        "id": "7u5HX7iU_SuM"
      },
      "source": [
        "#**Conclusion**"
      ]
    },
    {
      "cell_type": "markdown",
      "metadata": {
        "id": "4P7o8mBP_Xxd"
      },
      "source": [
        "- In my first analysis I rejected the null hypothesis. Over decades the forest fire incidents is increasing.\n",
        "- In the second analysis I will reject the null hypothesis that there's no difference between the means and conclude that a significant difference does exist.\n",
        "\n"
      ]
    },
    {
      "cell_type": "markdown",
      "metadata": {
        "id": "LzFhvYsepL-X"
      },
      "source": [
        "### Recommendations:\n"
      ]
    },
    {
      "cell_type": "markdown",
      "metadata": {
        "id": "_Eryy9TEpXzW"
      },
      "source": [
        "1) I recommend that SNIF and SINIMA provide  focus their resource allocation on Mato Gross to prevent future forest firest and encourage forest conservation since Mato Grosso has a signficantly higher rate of fires than any other state.\n",
        "\n",
        "2) I recommend SNIF and SINIMIA increase oversight and surveillance of agriculture to reduce increasing rate of forest fires.\n",
        "\n",
        "3) I recommend that SNIF and SINIMIA allocate resources on educating people to prevent fires as the rate of fires is increasing over time."
      ]
    }
  ]
}